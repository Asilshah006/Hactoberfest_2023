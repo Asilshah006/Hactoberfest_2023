{
 "cells": [
  {
   "cell_type": "code",
   "execution_count": 8,
   "id": "4fc06068",
   "metadata": {
    "scrolled": true
   },
   "outputs": [
    {
     "name": "stdout",
     "output_type": "stream",
     "text": [
      "<class 'pandas.core.frame.DataFrame'>\n",
      "RangeIndex: 706651 entries, 0 to 706650\n",
      "Data columns (total 15 columns):\n",
      " #   Column          Non-Null Count   Dtype  \n",
      "---  ------          --------------   -----  \n",
      " 0   Unnamed: 0      706651 non-null  int64  \n",
      " 1   --Timestamp---  706651 non-null  object \n",
      " 2   Temp            706651 non-null  float64\n",
      " 3   Chill           706651 non-null  float64\n",
      " 4   HIndex          706651 non-null  float64\n",
      " 5   Humid           706651 non-null  int64  \n",
      " 6   Dewpt           706651 non-null  float64\n",
      " 7    Wind           706650 non-null  float64\n",
      " 8   HiWind          706651 non-null  int64  \n",
      " 9   WindDir         706651 non-null  int64  \n",
      " 10  Rain            706651 non-null  float64\n",
      " 11  Barom           706651 non-null  float64\n",
      " 12  Solar           706651 non-null  int64  \n",
      " 13   ET             706651 non-null  float64\n",
      " 14   UV             706651 non-null  int64  \n",
      "dtypes: float64(8), int64(6), object(1)\n",
      "memory usage: 80.9+ MB\n"
     ]
    }
   ],
   "source": [
    "import numpy as np\n",
    "import pandas as pd\n",
    "import matplotlib.pyplot as plt\n",
    "from sklearn.metrics import accuracy_score\n",
    "from sklearn.model_selection import train_test_split\n",
    "from sklearn.linear_model import LinearRegression\n",
    "\n",
    "weather = pd.read_csv(\"Weather1.csv\")\n",
    "weather.info()\n"
   ]
  },
  {
   "cell_type": "code",
   "execution_count": null,
   "id": "97c78403",
   "metadata": {},
   "outputs": [],
   "source": []
  },
  {
   "cell_type": "code",
   "execution_count": null,
   "id": "2a150a52",
   "metadata": {},
   "outputs": [],
   "source": []
  },
  {
   "cell_type": "code",
   "execution_count": 20,
   "id": "463d1ec6",
   "metadata": {},
   "outputs": [
    {
     "data": {
      "text/plain": [
       "0         3500\n",
       "1         3500\n",
       "2         3500\n",
       "3         3500\n",
       "4         3500\n",
       "          ... \n",
       "706646      52\n",
       "706647      58\n",
       "706648      49\n",
       "706649      62\n",
       "706650    3500\n",
       "Name: Solar, Length: 706651, dtype: int64"
      ]
     },
     "execution_count": 20,
     "metadata": {},
     "output_type": "execute_result"
    }
   ],
   "source": [
    "x = weather[[\"Temp\"]]\n",
    "y = weather[\"Solar\"]\n",
    "y = y.replace(-100000 , 3500)\n",
    "y\n",
    "\n"
   ]
  },
  {
   "cell_type": "code",
   "execution_count": null,
   "id": "46decd71",
   "metadata": {},
   "outputs": [],
   "source": []
  },
  {
   "cell_type": "code",
   "execution_count": null,
   "id": "45044fac",
   "metadata": {},
   "outputs": [],
   "source": []
  },
  {
   "cell_type": "code",
   "execution_count": null,
   "id": "a8ce10ab",
   "metadata": {},
   "outputs": [],
   "source": []
  },
  {
   "cell_type": "code",
   "execution_count": null,
   "id": "f126dd55",
   "metadata": {},
   "outputs": [],
   "source": []
  },
  {
   "cell_type": "code",
   "execution_count": null,
   "id": "88616c16",
   "metadata": {},
   "outputs": [],
   "source": []
  },
  {
   "cell_type": "code",
   "execution_count": null,
   "id": "d4dc69e9",
   "metadata": {},
   "outputs": [],
   "source": []
  },
  {
   "cell_type": "code",
   "execution_count": 14,
   "id": "43bcced2",
   "metadata": {},
   "outputs": [
    {
     "data": {
      "text/plain": [
       "Text(0, 0.5, 'Solar')"
      ]
     },
     "execution_count": 14,
     "metadata": {},
     "output_type": "execute_result"
    },
    {
     "data": {
      "image/png": "[encoded data removed]",
      "text/plain": [
       "<Figure size 640x480 with 1 Axes>"
      ]
     },
     "metadata": {},
     "output_type": "display_data"
    }
   ],
   "source": [
    "weather.plot(x='Temp', y='Solar' , style='o')\n",
    "plt.title('Temp vs Solar')\n",
    "plt.xlabel('Temp')\n",
    "plt.ylabel('Solar')\n",
    "\n",
    "\n"
   ]
  },
  {
   "cell_type": "code",
   "execution_count": 21,
   "id": "8db10b3f",
   "metadata": {},
   "outputs": [
    {
     "data": {
      "text/plain": [
       "0.5733803489065483"
      ]
     },
     "execution_count": 21,
     "metadata": {},
     "output_type": "execute_result"
    }
   ],
   "source": [
    "\n",
    "X_train,X_test,y_train,y_test = train_test_split(x,y,test_size=0.2, random_state=0)\n",
    "model = LinearRegression()\n",
    "model.fit(X_train , y_train)\n",
    "model.score(X_test , y_test)"
   ]
  },
  {
   "cell_type": "code",
   "execution_count": null,
   "id": "64d56d84",
   "metadata": {},
   "outputs": [],
   "source": []
  },
  {
   "cell_type": "code",
   "execution_count": null,
   "id": "ee6a6774",
   "metadata": {},
   "outputs": [],
   "source": []
  },
  {
   "cell_type": "code",
   "execution_count": null,
   "id": "d5cada89",
   "metadata": {},
   "outputs": [],
   "source": []
  }
 ],
 "metadata": {
  "kernelspec": {
   "display_name": "Python 3 (ipykernel)",
   "language": "python",
   "name": "python3"
  },
  "language_info": {
   "codemirror_mode": {
    "name": "ipython",
    "version": 3
   },
   "file_extension": ".py",
   "mimetype": "text/x-python",
   "name": "python",
   "nbconvert_exporter": "python",
   "pygments_lexer": "ipython3",
   "version": "3.10.9"
  }
 },
 "nbformat": 4,
 "nbformat_minor": 5
}
